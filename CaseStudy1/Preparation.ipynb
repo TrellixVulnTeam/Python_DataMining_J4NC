{
 "cells": [
  {
   "cell_type": "markdown",
   "metadata": {},
   "source": [
    "This was the case study project from QUT. I corporated with other 2 students to finish this assignment. This is the part 1. Firstly, we need to clean the data and decide what feactures do we need for following mining, such as decision tree mining, regression mining, and neural network mining."
   ]
  },
  {
   "cell_type": "code",
   "execution_count": 52,
   "metadata": {},
   "outputs": [],
   "source": [
    "import pandas as pd\n",
    "import matplotlib.pyplot as plt\n",
    "import seaborn as sns\n",
    "import numpy as np"
   ]
  },
  {
   "cell_type": "markdown",
   "metadata": {},
   "source": [
    "# 1. Data Preparation"
   ]
  },
  {
   "cell_type": "markdown",
   "metadata": {},
   "source": [
    "## 1.1 Understand data\n",
    "Firstly, read the data from csv file, then try to understand it."
   ]
  },
  {
   "cell_type": "code",
   "execution_count": 3,
   "metadata": {},
   "outputs": [
    {
     "name": "stderr",
     "output_type": "stream",
     "text": [
      "/Users/lexi/anaconda3/lib/python3.7/site-packages/IPython/core/interactiveshell.py:3049: DtypeWarning: Columns (27) have mixed types. Specify dtype option on import or set low_memory=False.\n",
      "  interactivity=interactivity, compiler=compiler, result=result)\n"
     ]
    }
   ],
   "source": [
    "#read the dataset\n",
    "data = pd.read_csv('datasets/CaseStudyData.csv')"
   ]
  },
  {
   "cell_type": "code",
   "execution_count": 5,
   "metadata": {},
   "outputs": [
    {
     "data": {
      "text/plain": [
       "(41476, 31)"
      ]
     },
     "execution_count": 5,
     "metadata": {},
     "output_type": "execute_result"
    }
   ],
   "source": [
    "# Use shape to see how many rows and columns in this data set\n",
    "data.shape"
   ]
  },
  {
   "cell_type": "code",
   "execution_count": 7,
   "metadata": {},
   "outputs": [
    {
     "data": {
      "text/html": [
       "<div>\n",
       "<style scoped>\n",
       "    .dataframe tbody tr th:only-of-type {\n",
       "        vertical-align: middle;\n",
       "    }\n",
       "\n",
       "    .dataframe tbody tr th {\n",
       "        vertical-align: top;\n",
       "    }\n",
       "\n",
       "    .dataframe thead th {\n",
       "        text-align: right;\n",
       "    }\n",
       "</style>\n",
       "<table border=\"1\" class=\"dataframe\">\n",
       "  <thead>\n",
       "    <tr style=\"text-align: right;\">\n",
       "      <th></th>\n",
       "      <th>PurchaseID</th>\n",
       "      <th>PurchaseTimestamp</th>\n",
       "      <th>PurchaseDate</th>\n",
       "      <th>Auction</th>\n",
       "      <th>VehYear</th>\n",
       "      <th>Make</th>\n",
       "      <th>Color</th>\n",
       "      <th>Transmission</th>\n",
       "      <th>WheelTypeID</th>\n",
       "      <th>WheelType</th>\n",
       "      <th>...</th>\n",
       "      <th>MMRCurrentRetailCleanPrice</th>\n",
       "      <th>MMRCurrentRetailRatio</th>\n",
       "      <th>PRIMEUNIT</th>\n",
       "      <th>AUCGUART</th>\n",
       "      <th>VNST</th>\n",
       "      <th>VehBCost</th>\n",
       "      <th>IsOnlineSale</th>\n",
       "      <th>WarrantyCost</th>\n",
       "      <th>ForSale</th>\n",
       "      <th>IsBadBuy</th>\n",
       "    </tr>\n",
       "  </thead>\n",
       "  <tbody>\n",
       "    <tr>\n",
       "      <th>0</th>\n",
       "      <td>0</td>\n",
       "      <td>1253232000</td>\n",
       "      <td>18/09/2009 10:00</td>\n",
       "      <td>OTHER</td>\n",
       "      <td>2008.0</td>\n",
       "      <td>DODGE</td>\n",
       "      <td>RED</td>\n",
       "      <td>AUTO</td>\n",
       "      <td>2</td>\n",
       "      <td>Covers</td>\n",
       "      <td>...</td>\n",
       "      <td>12505</td>\n",
       "      <td>0.941783287</td>\n",
       "      <td>?</td>\n",
       "      <td>?</td>\n",
       "      <td>NC</td>\n",
       "      <td>7800</td>\n",
       "      <td>0</td>\n",
       "      <td>920.0</td>\n",
       "      <td>Yes</td>\n",
       "      <td>0</td>\n",
       "    </tr>\n",
       "    <tr>\n",
       "      <th>1</th>\n",
       "      <td>1</td>\n",
       "      <td>1253232000</td>\n",
       "      <td>18/09/2009 10:00</td>\n",
       "      <td>OTHER</td>\n",
       "      <td>2008.0</td>\n",
       "      <td>DODGE</td>\n",
       "      <td>RED</td>\n",
       "      <td>AUTO</td>\n",
       "      <td>2</td>\n",
       "      <td>Covers</td>\n",
       "      <td>...</td>\n",
       "      <td>10571</td>\n",
       "      <td>0.922618485</td>\n",
       "      <td>?</td>\n",
       "      <td>?</td>\n",
       "      <td>NC</td>\n",
       "      <td>7800</td>\n",
       "      <td>0</td>\n",
       "      <td>834.0</td>\n",
       "      <td>Yes</td>\n",
       "      <td>0</td>\n",
       "    </tr>\n",
       "    <tr>\n",
       "      <th>2</th>\n",
       "      <td>2</td>\n",
       "      <td>1253232000</td>\n",
       "      <td>18/09/2009 10:00</td>\n",
       "      <td>OTHER</td>\n",
       "      <td>2008.0</td>\n",
       "      <td>CHRYSLER</td>\n",
       "      <td>SILVER</td>\n",
       "      <td>AUTO</td>\n",
       "      <td>2</td>\n",
       "      <td>Covers</td>\n",
       "      <td>...</td>\n",
       "      <td>9932</td>\n",
       "      <td>0.935159082</td>\n",
       "      <td>?</td>\n",
       "      <td>?</td>\n",
       "      <td>NC</td>\n",
       "      <td>7800</td>\n",
       "      <td>0</td>\n",
       "      <td>834.0</td>\n",
       "      <td>Yes</td>\n",
       "      <td>0</td>\n",
       "    </tr>\n",
       "    <tr>\n",
       "      <th>3</th>\n",
       "      <td>3</td>\n",
       "      <td>1253232000</td>\n",
       "      <td>18/09/2009 10:00</td>\n",
       "      <td>OTHER</td>\n",
       "      <td>2008.0</td>\n",
       "      <td>CHEVROLET</td>\n",
       "      <td>RED</td>\n",
       "      <td>AUTO</td>\n",
       "      <td>2</td>\n",
       "      <td>Covers</td>\n",
       "      <td>...</td>\n",
       "      <td>8739</td>\n",
       "      <td>0.931456688</td>\n",
       "      <td>?</td>\n",
       "      <td>?</td>\n",
       "      <td>NC</td>\n",
       "      <td>6000</td>\n",
       "      <td>0</td>\n",
       "      <td>671.0</td>\n",
       "      <td>Yes</td>\n",
       "      <td>0</td>\n",
       "    </tr>\n",
       "    <tr>\n",
       "      <th>4</th>\n",
       "      <td>4</td>\n",
       "      <td>1253232000</td>\n",
       "      <td>18/09/2009 10:00</td>\n",
       "      <td>OTHER</td>\n",
       "      <td>2008.0</td>\n",
       "      <td>DODGE</td>\n",
       "      <td>SILVER</td>\n",
       "      <td>AUTO</td>\n",
       "      <td>2</td>\n",
       "      <td>Covers</td>\n",
       "      <td>...</td>\n",
       "      <td>9908</td>\n",
       "      <td>0.906943884</td>\n",
       "      <td>?</td>\n",
       "      <td>?</td>\n",
       "      <td>NC</td>\n",
       "      <td>7800</td>\n",
       "      <td>0</td>\n",
       "      <td>920.0</td>\n",
       "      <td>Yes</td>\n",
       "      <td>0</td>\n",
       "    </tr>\n",
       "  </tbody>\n",
       "</table>\n",
       "<p>5 rows × 31 columns</p>\n",
       "</div>"
      ],
      "text/plain": [
       "   PurchaseID  PurchaseTimestamp      PurchaseDate Auction  VehYear  \\\n",
       "0           0         1253232000  18/09/2009 10:00   OTHER   2008.0   \n",
       "1           1         1253232000  18/09/2009 10:00   OTHER   2008.0   \n",
       "2           2         1253232000  18/09/2009 10:00   OTHER   2008.0   \n",
       "3           3         1253232000  18/09/2009 10:00   OTHER   2008.0   \n",
       "4           4         1253232000  18/09/2009 10:00   OTHER   2008.0   \n",
       "\n",
       "        Make   Color Transmission WheelTypeID WheelType  ...  \\\n",
       "0      DODGE     RED         AUTO           2    Covers  ...   \n",
       "1      DODGE     RED         AUTO           2    Covers  ...   \n",
       "2   CHRYSLER  SILVER         AUTO           2    Covers  ...   \n",
       "3  CHEVROLET     RED         AUTO           2    Covers  ...   \n",
       "4      DODGE  SILVER         AUTO           2    Covers  ...   \n",
       "\n",
       "   MMRCurrentRetailCleanPrice MMRCurrentRetailRatio PRIMEUNIT AUCGUART VNST  \\\n",
       "0                       12505           0.941783287         ?        ?   NC   \n",
       "1                       10571           0.922618485         ?        ?   NC   \n",
       "2                        9932           0.935159082         ?        ?   NC   \n",
       "3                        8739           0.931456688         ?        ?   NC   \n",
       "4                        9908           0.906943884         ?        ?   NC   \n",
       "\n",
       "  VehBCost IsOnlineSale WarrantyCost ForSale IsBadBuy  \n",
       "0     7800            0        920.0     Yes        0  \n",
       "1     7800            0        834.0     Yes        0  \n",
       "2     7800            0        834.0     Yes        0  \n",
       "3     6000            0        671.0     Yes        0  \n",
       "4     7800            0        920.0     Yes        0  \n",
       "\n",
       "[5 rows x 31 columns]"
      ]
     },
     "execution_count": 7,
     "metadata": {},
     "output_type": "execute_result"
    }
   ],
   "source": [
    "# Use head() to show first 5 rows data.\n",
    "data.head()"
   ]
  },
  {
   "cell_type": "code",
   "execution_count": null,
   "metadata": {},
   "outputs": [],
   "source": [
    "# Use info to see the information of each column.\n",
    "data.info()"
   ]
  },
  {
   "cell_type": "markdown",
   "metadata": {},
   "source": [
    "## 1.2 Manipulate the data\n",
    "Now, we need to clean the data.\n",
    "* Clean the missing value\n",
    "* Invalid values \n",
    "* Wrong type of data format"
   ]
  },
  {
   "cell_type": "code",
   "execution_count": 49,
   "metadata": {},
   "outputs": [],
   "source": [
    "# There is no problem in VehYear, but it should be categorical.\n",
    "data['VehYear'] = pd.Categorical(data['VehYear'])"
   ]
  },
  {
   "cell_type": "markdown",
   "metadata": {},
   "source": [
    "### 1.2.1 Missing value in all columns"
   ]
  },
  {
   "cell_type": "code",
   "execution_count": 10,
   "metadata": {},
   "outputs": [
    {
     "name": "stdout",
     "output_type": "stream",
     "text": [
      "MMRCurrentRetailRatio                360\n",
      "MMRAcquisitonRetailCleanPrice        149\n",
      "WheelType                             96\n",
      "MMRCurrentRetailCleanPrice            67\n",
      "MMRCurrentRetailAveragePrice          67\n",
      "MMRAcquisitionAuctionAveragePrice     60\n",
      "MMRAcquisitionAuctionCleanPrice       47\n",
      "MMRCurrentAuctionAveragePrice         47\n",
      "MMRCurrentAuctionCleanPrice           47\n",
      "MMRAcquisitionRetailAveragePrice      47\n",
      "PRIMEUNIT                             44\n",
      "AUCGUART                              44\n",
      "VehYear                               44\n",
      "Make                                  44\n",
      "Color                                 44\n",
      "Transmission                          44\n",
      "WheelTypeID                           44\n",
      "WarrantyCost                          44\n",
      "VehOdo                                44\n",
      "Nationality                           44\n",
      "Size                                  44\n",
      "TopThreeAmericanName                  44\n",
      "IsOnlineSale                          44\n",
      "VehBCost                              44\n",
      "VNST                                  44\n",
      "Auction                               44\n",
      "PurchaseTimestamp                      0\n",
      "PurchaseDate                           0\n",
      "IsBadBuy                               0\n",
      "ForSale                                0\n",
      "PurchaseID                             0\n",
      "dtype: int64\n"
     ]
    }
   ],
   "source": [
    "# find the missing data for all features\n",
    "MissingData = data.isnull().sum()\n",
    "print(MissingData.sort_values(ascending = False))"
   ]
  },
  {
   "cell_type": "code",
   "execution_count": null,
   "metadata": {},
   "outputs": [],
   "source": []
  },
  {
   "cell_type": "code",
   "execution_count": 11,
   "metadata": {},
   "outputs": [],
   "source": [
    "# there are 16 columns that are uniformly has missing data\n",
    "# drop the missing values of subset columns total 44 instances\n",
    "data = data.dropna(subset=['PRIMEUNIT', 'AUCGUART','VehYear','Make','Color','Transmission'\\\n",
    "                           ,'WheelTypeID','WarrantyCost','VehOdo','Nationality','Size',\\\n",
    "                           'TopThreeAmericanName','IsOnlineSale','VehBCost','VNST','Auction'])"
   ]
  },
  {
   "cell_type": "code",
   "execution_count": 13,
   "metadata": {},
   "outputs": [
    {
     "name": "stdout",
     "output_type": "stream",
     "text": [
      "MMRCurrentRetailRatio                316\n",
      "MMRAcquisitonRetailCleanPrice        105\n",
      "WheelType                             52\n",
      "MMRCurrentRetailAveragePrice          23\n",
      "MMRCurrentRetailCleanPrice            23\n",
      "MMRAcquisitionAuctionAveragePrice     16\n",
      "MMRCurrentAuctionCleanPrice            3\n",
      "MMRCurrentAuctionAveragePrice          3\n",
      "MMRAcquisitionRetailAveragePrice       3\n",
      "MMRAcquisitionAuctionCleanPrice        3\n",
      "VehYear                                0\n",
      "Make                                   0\n",
      "Color                                  0\n",
      "Auction                                0\n",
      "VehOdo                                 0\n",
      "PurchaseDate                           0\n",
      "PurchaseTimestamp                      0\n",
      "Transmission                           0\n",
      "WheelTypeID                            0\n",
      "IsBadBuy                               0\n",
      "Nationality                            0\n",
      "Size                                   0\n",
      "TopThreeAmericanName                   0\n",
      "ForSale                                0\n",
      "PRIMEUNIT                              0\n",
      "AUCGUART                               0\n",
      "VNST                                   0\n",
      "VehBCost                               0\n",
      "IsOnlineSale                           0\n",
      "WarrantyCost                           0\n",
      "PurchaseID                             0\n",
      "dtype: int64\n"
     ]
    }
   ],
   "source": [
    "MissingData = data.isnull().sum()\n",
    "print(MissingData.sort_values(ascending = False))"
   ]
  },
  {
   "cell_type": "markdown",
   "metadata": {},
   "source": [
    "### 1.2.2 Invalid value in column 'Color'"
   ]
  },
  {
   "cell_type": "code",
   "execution_count": 14,
   "metadata": {},
   "outputs": [
    {
     "data": {
      "text/plain": [
       "array(['RED', 'SILVER', 'WHITE', 'BLUE', 'BEIGE', 'BLACK', 'GREEN',\n",
       "       'GREY', 'NOT AVAIL', 'GOLD', 'PURPLE', 'ORANGE', 'MAROON',\n",
       "       'YELLOW', 'OTHER', 'BROWN', '?'], dtype=object)"
      ]
     },
     "execution_count": 14,
     "metadata": {},
     "output_type": "execute_result"
    }
   ],
   "source": [
    "# Color contains ? and NOT AVAIL\n",
    "data['Color'].unique()"
   ]
  },
  {
   "cell_type": "code",
   "execution_count": 16,
   "metadata": {},
   "outputs": [
    {
     "name": "stdout",
     "output_type": "stream",
     "text": [
      "SILVER       8541\n",
      "WHITE        6890\n",
      "BLUE         5855\n",
      "BLACK        4392\n",
      "GREY         4248\n",
      "RED          3661\n",
      "GOLD         3059\n",
      "GREEN        1796\n",
      "MAROON       1039\n",
      "BEIGE         894\n",
      "ORANGE        255\n",
      "BROWN         249\n",
      "PURPLE        205\n",
      "YELLOW        141\n",
      "OTHER         136\n",
      "NOT AVAIL      65\n",
      "?               6\n",
      "Name: Color, dtype: int64\n",
      "\n",
      "\n",
      "Normalised count (percentage) of Color with kick value prediction\n",
      "IsBadBuy  Color    \n",
      "0         SILVER       0.205479\n",
      "          WHITE        0.166607\n",
      "          BLUE         0.142318\n",
      "          BLACK        0.107827\n",
      "          GREY         0.103446\n",
      "          RED          0.087864\n",
      "          GOLD         0.072144\n",
      "          GREEN        0.042865\n",
      "          MAROON       0.025148\n",
      "          BEIGE        0.021405\n",
      "          ORANGE       0.006377\n",
      "          BROWN        0.005822\n",
      "          PURPLE       0.004686\n",
      "          OTHER        0.003327\n",
      "          YELLOW       0.003299\n",
      "          NOT AVAIL    0.001248\n",
      "          ?            0.000139\n",
      "1         SILVER       0.210624\n",
      "          WHITE        0.164212\n",
      "          BLUE         0.134576\n",
      "          GREY         0.096365\n",
      "          BLACK        0.093756\n",
      "          RED          0.091705\n",
      "          GOLD         0.085182\n",
      "          GREEN        0.046598\n",
      "          MAROON       0.024604\n",
      "          BEIGE        0.022740\n",
      "          BROWN        0.007269\n",
      "          PURPLE       0.006710\n",
      "          ORANGE       0.004660\n",
      "          YELLOW       0.004101\n",
      "          NOT AVAIL    0.003728\n",
      "          OTHER        0.002982\n",
      "          ?            0.000186\n",
      "Name: Color, dtype: float64\n"
     ]
    }
   ],
   "source": [
    "# Calculate which color has the higest percentage in two classes.\n",
    "print(data['Color'].value_counts())\n",
    "print(\"\\n\\nNormalised count (percentage) of Color with kick value prediction\")\n",
    "print(data.groupby(['IsBadBuy'])['Color'].value_counts(normalize=True))"
   ]
  },
  {
   "cell_type": "code",
   "execution_count": 18,
   "metadata": {},
   "outputs": [
    {
     "name": "stdout",
     "output_type": "stream",
     "text": [
      "['RED' 'SILVER' 'WHITE' 'BLUE' 'BEIGE' 'BLACK' 'GREEN' 'GREY' 'GOLD'\n",
      " 'PURPLE' 'ORANGE' 'MAROON' 'YELLOW' 'OTHER' 'BROWN']\n"
     ]
    }
   ],
   "source": [
    "# Replace '?', 'NOT AVAIL' into 'SILVER'\n",
    "data['Color'] = data['Color'].replace('?', 'SILVER')\n",
    "data['Color'] = data['Color'].replace('NOT AVAIL', 'SILVER')\n",
    "print(data['Color'].unique())"
   ]
  },
  {
   "cell_type": "code",
   "execution_count": 32,
   "metadata": {},
   "outputs": [
    {
     "name": "stdout",
     "output_type": "stream",
     "text": [
      "     Color  IsBadBuy  count\n",
      "0    BEIGE         0    772\n",
      "1    BEIGE         1    122\n",
      "2    BLACK         0   3889\n",
      "3    BLACK         1    503\n",
      "4     BLUE         0   5133\n",
      "5     BLUE         1    722\n",
      "6    BROWN         0    210\n",
      "7    BROWN         1     39\n",
      "8     GOLD         0   2602\n",
      "9     GOLD         1    457\n",
      "10   GREEN         0   1546\n",
      "11   GREEN         1    250\n",
      "12    GREY         0   3731\n",
      "13    GREY         1    517\n",
      "14  MAROON         0    907\n",
      "15  MAROON         1    132\n",
      "16  ORANGE         0    230\n",
      "17  ORANGE         1     25\n",
      "18   OTHER         0    120\n",
      "19   OTHER         1     16\n",
      "20  PURPLE         0    169\n",
      "21  PURPLE         1     36\n",
      "22     RED         0   3169\n",
      "23     RED         1    492\n",
      "24  SILVER         0   7461\n",
      "25  SILVER         1   1151\n",
      "26   WHITE         0   6009\n",
      "27   WHITE         1    881\n",
      "28  YELLOW         0    119\n",
      "29  YELLOW         1     22\n"
     ]
    },
    {
     "data": {
      "image/png": "[encoded data removed]",
      "text/plain": [
       "<Figure size 720x1080 with 3 Axes>"
      ]
     },
     "metadata": {
      "needs_background": "light"
     },
     "output_type": "display_data"
    }
   ],
   "source": [
    "# Show some figures for Color\n",
    "Color_IsBadBuy = pd.DataFrame({'count': data.groupby(['Color', 'IsBadBuy']).size()}).reset_index()\n",
    "print(Color_IsBadBuy)\n",
    "\n",
    "plt.figure(figsize=(10,15))\n",
    "\n",
    "#Count plot\n",
    "plt.subplot(3,1,1)\n",
    "Color_Countplot = sns.countplot(data=data, x='Color', order=data['Color'].value_counts().index)\n",
    "Color_Countplot.set_xticklabels(Color_Countplot.get_xticklabels(), rotation=40, ha=\"right\")\n",
    "plt.title(\"Color\")\n",
    "\n",
    "# Bar plot\n",
    "plt.subplot(3,1,2)\n",
    "Color_barplot = sns.barplot(data=data, y='Color', x='IsBadBuy')\n",
    "plt.title(\"Color associated with kick \")\n",
    "\n",
    "#Bar plot after group by\n",
    "plt.subplot(3,1,3)\n",
    "Color_IsBadBuy_plot = sns.barplot(data=Color_IsBadBuy, x='Color', y='count', hue='IsBadBuy')\n",
    "Color_IsBadBuy_plot.set_xticklabels(Color_IsBadBuy_plot.get_xticklabels(), rotation=40, ha=\"right\")\n",
    "plt.title(\"Color associated with kick \")\n",
    "\n",
    "plt.tight_layout()"
   ]
  },
  {
   "cell_type": "markdown",
   "metadata": {},
   "source": [
    "### 1.2.3 Invalid value in column 'Transmission'"
   ]
  },
  {
   "cell_type": "code",
   "execution_count": 34,
   "metadata": {},
   "outputs": [
    {
     "name": "stdout",
     "output_type": "stream",
     "text": [
      "['AUTO' 'MANUAL' 'Manual' '?']\n"
     ]
    }
   ],
   "source": [
    "# Transmission contains ? and both capital case and lower case Manual...\n",
    "print(data['Transmission'].unique())"
   ]
  },
  {
   "cell_type": "code",
   "execution_count": 37,
   "metadata": {},
   "outputs": [
    {
     "name": "stdout",
     "output_type": "stream",
     "text": [
      "['AUTO' 'MANUAL']\n"
     ]
    }
   ],
   "source": [
    "#Replace Manual => MANUAL\n",
    "#Replace by majority since data is categorical\n",
    "#Replace ? => AUTO\n",
    "data['Transmission'] = data['Transmission'].replace('?', 'AUTO')\n",
    "data['Transmission'] = data['Transmission'].replace('Manual', 'MANUAL')\n",
    "print(data['Transmission'].unique())"
   ]
  },
  {
   "cell_type": "code",
   "execution_count": 39,
   "metadata": {},
   "outputs": [
    {
     "name": "stdout",
     "output_type": "stream",
     "text": [
      "AUTO      39936\n",
      "MANUAL     1496\n",
      "Name: Transmission, dtype: int64\n",
      "\n",
      "\n",
      "Normalised count (percentage) of Transmission with kick value prediction\n",
      "IsBadBuy  Transmission\n",
      "0         AUTO            0.963512\n",
      "          MANUAL          0.036488\n",
      "1         AUTO            0.966449\n",
      "          MANUAL          0.033551\n",
      "Name: Transmission, dtype: float64\n"
     ]
    }
   ],
   "source": [
    "print(data['Transmission'].value_counts())\n",
    "print(\"\\n\\nNormalised count (percentage) of Transmission with kick value prediction\")\n",
    "print(data.groupby(['IsBadBuy'])['Transmission'].value_counts(normalize=True))"
   ]
  },
  {
   "cell_type": "code",
   "execution_count": 40,
   "metadata": {},
   "outputs": [
    {
     "data": {
      "image/png": "[encoded data removed]",
      "text/plain": [
       "<Figure size 720x720 with 2 Axes>"
      ]
     },
     "metadata": {
      "needs_background": "light"
     },
     "output_type": "display_data"
    }
   ],
   "source": [
    "plt.figure(figsize=(10,10))\n",
    "plt.subplot(221)\n",
    "dg = sns.countplot(data=data, x='Transmission',)\n",
    "plt.title(\"Transmission\")\n",
    "\n",
    "plt.subplot(222)\n",
    "dg = sns.barplot(data=data, y='Transmission', x='IsBadBuy', )\n",
    "plt.title(\"Transmission associated with kick \")\n",
    "plt.tight_layout()"
   ]
  },
  {
   "cell_type": "markdown",
   "metadata": {},
   "source": [
    "### 1.2.4 Invalid value in column 'WheeltypeId'"
   ]
  },
  {
   "cell_type": "code",
   "execution_count": 42,
   "metadata": {},
   "outputs": [
    {
     "name": "stdout",
     "output_type": "stream",
     "text": [
      "['2' '1' '?' '3' '0']\n"
     ]
    }
   ],
   "source": [
    "# WheelTypeID contains ?.\n",
    "print(data['WheelTypeID'].unique())"
   ]
  },
  {
   "cell_type": "code",
   "execution_count": 44,
   "metadata": {},
   "outputs": [
    {
     "name": "stdout",
     "output_type": "stream",
     "text": [
      "[2, 1, 3, 0]\n",
      "Categories (4, object): [2, 1, 3, 0]\n"
     ]
    }
   ],
   "source": [
    "#Replace by majority since data is categorical\n",
    "data['WheelTypeID'] = data['WheelTypeID'].replace('?', '1')\n",
    "data['WheelTypeID'] = pd.Categorical(data['WheelTypeID'])\n",
    "print(data['WheelTypeID'].unique())"
   ]
  },
  {
   "cell_type": "code",
   "execution_count": 45,
   "metadata": {},
   "outputs": [
    {
     "name": "stdout",
     "output_type": "stream",
     "text": [
      "1    22201\n",
      "2    18791\n",
      "3      437\n",
      "0        3\n",
      "Name: WheelTypeID, dtype: int64\n",
      "\n",
      "\n",
      "Normalised count (percentage) of auction company with kick value prediction\n",
      "IsBadBuy  WheelTypeID\n",
      "0         1              0.511770\n",
      "          2              0.477667\n",
      "          3              0.010508\n",
      "          0              0.000055\n",
      "1         1              0.697670\n",
      "          2              0.291333\n",
      "          3              0.010811\n",
      "          0              0.000186\n",
      "Name: WheelTypeID, dtype: float64\n"
     ]
    }
   ],
   "source": [
    "print(data['WheelTypeID'].value_counts())\n",
    "print(\"\\n\\nNormalised count (percentage) of auction company with kick value prediction\")\n",
    "print(data.groupby(['IsBadBuy'])['WheelTypeID'].value_counts(normalize=True))"
   ]
  },
  {
   "cell_type": "code",
   "execution_count": 47,
   "metadata": {},
   "outputs": [
    {
     "name": "stdout",
     "output_type": "stream",
     "text": [
      "  WheelTypeID  IsBadBuy  count\n",
      "0           0         0      2\n",
      "1           0         1      1\n",
      "2           1         0  18458\n",
      "3           1         1   3743\n",
      "4           2         0  17228\n",
      "5           2         1   1563\n",
      "6           3         0    379\n",
      "7           3         1     58\n"
     ]
    },
    {
     "data": {
      "text/plain": [
       "Text(0.5, 1.0, 'WheelTypeID associated with kick ')"
      ]
     },
     "execution_count": 47,
     "metadata": {},
     "output_type": "execute_result"
    },
    {
     "data": {
      "image/png": "[encoded data removed]",
      "text/plain": [
       "<Figure size 720x720 with 2 Axes>"
      ]
     },
     "metadata": {
      "needs_background": "light"
     },
     "output_type": "display_data"
    }
   ],
   "source": [
    "# Group by WheelTypeId and IsBadBuy\n",
    "WheelTypeID_IsBadBuy = pd.DataFrame({'count': data.groupby(['WheelTypeID', 'IsBadBuy']).size()}).reset_index()\n",
    "print(WheelTypeID_IsBadBuy)\n",
    "\n",
    "plt.figure(figsize=(10,10))\n",
    "plt.subplot(221)\n",
    "dg = sns.countplot(data=data, x='WheelTypeID')\n",
    "plt.title(\"WheelTypeID\")\n",
    "\n",
    "plt.subplot(222)\n",
    "dg = sns.barplot(data=data, y='WheelTypeID', x='IsBadBuy', )\n",
    "plt.title(\"WheelTypeID associated with kick \")"
   ]
  },
  {
   "cell_type": "markdown",
   "metadata": {},
   "source": [
    "### 1.2.5 Invalid value in 'WheelType'"
   ]
  },
  {
   "cell_type": "code",
   "execution_count": 50,
   "metadata": {},
   "outputs": [
    {
     "name": "stdout",
     "output_type": "stream",
     "text": [
      "['Covers' 'Alloy' '?' 'Special' nan]\n"
     ]
    }
   ],
   "source": [
    "# WheelType contains ? and nan.\n",
    "print(data['WheelType'].unique())"
   ]
  },
  {
   "cell_type": "code",
   "execution_count": 53,
   "metadata": {},
   "outputs": [],
   "source": [
    "# replace nan and ? into Alloy\n",
    "data['WheelType'] = data['WheelType'].replace(np.nan, 'Alloy')\n",
    "data['WheelType'] = data['WheelType'].replace('?', 'Alloy')"
   ]
  },
  {
   "cell_type": "code",
   "execution_count": 55,
   "metadata": {},
   "outputs": [
    {
     "name": "stdout",
     "output_type": "stream",
     "text": [
      "Alloy      22235\n",
      "Covers     18761\n",
      "Special      436\n",
      "Name: WheelType, dtype: int64\n",
      "\n",
      "\n",
      "Normalised count (percentage) of auction company with kick value prediction\n",
      "IsBadBuy  WheelType\n",
      "0         Alloy        0.512518\n",
      "          Covers       0.477001\n",
      "          Special      0.010480\n",
      "1         Alloy        0.698975\n",
      "          Covers       0.290214\n",
      "          Special      0.010811\n",
      "Name: WheelType, dtype: float64\n"
     ]
    }
   ],
   "source": [
    "print(data['WheelType'].value_counts())\n",
    "print(\"\\n\\nNormalised count (percentage) of auction company with kick value prediction\")\n",
    "print(data.groupby(['IsBadBuy'])['WheelType'].value_counts(normalize=True))"
   ]
  },
  {
   "cell_type": "code",
   "execution_count": 56,
   "metadata": {},
   "outputs": [
    {
     "data": {
      "text/plain": [
       "Text(0.5, 1.0, 'WheelType associated with kick ')"
      ]
     },
     "execution_count": 56,
     "metadata": {},
     "output_type": "execute_result"
    },
    {
     "data": {
      "image/png": "[encoded data removed]",
      "text/plain": [
       "<Figure size 720x720 with 2 Axes>"
      ]
     },
     "metadata": {
      "needs_background": "light"
     },
     "output_type": "display_data"
    }
   ],
   "source": [
    "plt.figure(figsize=(10,10))\n",
    "plt.subplot(221)\n",
    "dg = sns.countplot(data=data, x='WheelType')\n",
    "plt.title(\"WheelType \")\n",
    "\n",
    "plt.subplot(222)\n",
    "dg = sns.barplot(data=data, y='WheelType', x='IsBadBuy', )\n",
    "plt.title(\"WheelType associated with kick \")"
   ]
  },
  {
   "cell_type": "markdown",
   "metadata": {},
   "source": [
    "### 1.2.6 Invalid value in 'Nationality'"
   ]
  },
  {
   "cell_type": "code",
   "execution_count": 58,
   "metadata": {},
   "outputs": [
    {
     "name": "stdout",
     "output_type": "stream",
     "text": [
      "['AMERICAN' 'OTHER ASIAN' 'USA' 'TOP LINE ASIAN' 'OTHER' '?']\n"
     ]
    }
   ],
   "source": [
    "# Nationality contains ?.\n",
    "print(data['Nationality'].unique())"
   ]
  },
  {
   "cell_type": "code",
   "execution_count": 59,
   "metadata": {},
   "outputs": [
    {
     "name": "stdout",
     "output_type": "stream",
     "text": [
      "['AMERICAN' 'OTHER ASIAN' 'TOP LINE ASIAN' 'OTHER']\n"
     ]
    }
   ],
   "source": [
    "# replace '?' and 'USA' to 'AMERICAN'\n",
    "data['Nationality'] = data['Nationality'].replace('?', 'AMERICAN')\n",
    "data['Nationality'] = data['Nationality'].replace('USA', 'AMERICAN')\n",
    "print(data['Nationality'].unique())"
   ]
  },
  {
   "cell_type": "code",
   "execution_count": 60,
   "metadata": {},
   "outputs": [
    {
     "name": "stdout",
     "output_type": "stream",
     "text": [
      "AMERICAN          34744\n",
      "OTHER ASIAN        4474\n",
      "TOP LINE ASIAN     2110\n",
      "OTHER               104\n",
      "Name: Nationality, dtype: int64\n",
      "\n",
      "\n",
      "Normalised count (percentage) of Nationality with kick value prediction\n",
      "IsBadBuy  Nationality   \n",
      "0         AMERICAN          0.840408\n",
      "          OTHER ASIAN       0.106857\n",
      "          TOP LINE ASIAN    0.050406\n",
      "          OTHER             0.002329\n",
      "1         AMERICAN          0.826281\n",
      "          OTHER ASIAN       0.115564\n",
      "          TOP LINE ASIAN    0.054427\n",
      "          OTHER             0.003728\n",
      "Name: Nationality, dtype: float64\n"
     ]
    }
   ],
   "source": [
    "print(data['Nationality'].value_counts())\n",
    "print(\"\\n\\nNormalised count (percentage) of Nationality with kick value prediction\")\n",
    "print(data.groupby(['IsBadBuy'])['Nationality'].value_counts(normalize=True))"
   ]
  },
  {
   "cell_type": "code",
   "execution_count": 61,
   "metadata": {},
   "outputs": [
    {
     "data": {
      "image/png": "[encoded data removed]",
      "text/plain": [
       "<Figure size 720x720 with 2 Axes>"
      ]
     },
     "metadata": {
      "needs_background": "light"
     },
     "output_type": "display_data"
    }
   ],
   "source": [
    "plt.figure(figsize=(10,10))\n",
    "plt.subplot(221)\n",
    "dg = sns.countplot(data=data, x='Nationality')\n",
    "\n",
    "plt.subplot(222)\n",
    "dg = sns.barplot(data=data, y='Nationality', x='IsBadBuy')"
   ]
  },
  {
   "cell_type": "markdown",
   "metadata": {},
   "source": [
    "### 1.2.7 Invalid value in 'Size'"
   ]
  },
  {
   "cell_type": "code",
   "execution_count": 62,
   "metadata": {},
   "outputs": [
    {
     "name": "stdout",
     "output_type": "stream",
     "text": [
      "['MEDIUM' 'COMPACT' 'LARGE' 'MEDIUM SUV' 'SPECIALTY' 'CROSSOVER' 'VAN'\n",
      " 'LARGE SUV' 'SMALL TRUCK' 'LARGE TRUCK' 'SMALL SUV' 'SPORTS' '?']\n"
     ]
    }
   ],
   "source": [
    "# Size contains ?.\n",
    "print(data['Size'].unique())"
   ]
  },
  {
   "cell_type": "code",
   "execution_count": 63,
   "metadata": {},
   "outputs": [
    {
     "name": "stdout",
     "output_type": "stream",
     "text": [
      "['MEDIUM' 'COMPACT' 'LARGE' 'MEDIUM SUV' 'SPECIALTY' 'CROSSOVER' 'VAN'\n",
      " 'LARGE SUV' 'SMALL TRUCK' 'LARGE TRUCK' 'SMALL SUV' 'SPORTS']\n"
     ]
    }
   ],
   "source": [
    "# replace '?' and 'USA' with 'AMERICAN'\n",
    "data['Size'] = data['Size'].replace('?', 'MEDIUM')\n",
    "print(data['Size'].unique())"
   ]
  },
  {
   "cell_type": "code",
   "execution_count": 64,
   "metadata": {},
   "outputs": [
    {
     "name": "stdout",
     "output_type": "stream",
     "text": [
      "MEDIUM         17543\n",
      "LARGE           4968\n",
      "MEDIUM SUV      4569\n",
      "COMPACT         4035\n",
      "VAN             3367\n",
      "LARGE TRUCK     1897\n",
      "SMALL SUV       1332\n",
      "SPECIALTY        998\n",
      "CROSSOVER        974\n",
      "LARGE SUV        830\n",
      "SMALL TRUCK      494\n",
      "SPORTS           425\n",
      "Name: Size, dtype: int64\n",
      "\n",
      "\n",
      "Normalised count (percentage) of size with kick value prediction\n",
      "IsBadBuy  Size       \n",
      "0         MEDIUM         0.427233\n",
      "          LARGE          0.125405\n",
      "          MEDIUM SUV     0.106552\n",
      "          COMPACT        0.093132\n",
      "          VAN            0.081044\n",
      "          LARGE TRUCK    0.046081\n",
      "          SMALL SUV      0.031636\n",
      "          SPECIALTY      0.024870\n",
      "          CROSSOVER      0.023845\n",
      "          LARGE SUV      0.018965\n",
      "          SMALL TRUCK    0.011617\n",
      "          SPORTS         0.009621\n",
      "1         MEDIUM         0.397763\n",
      "          MEDIUM SUV     0.135322\n",
      "          COMPACT        0.126002\n",
      "          LARGE          0.082945\n",
      "          VAN            0.082759\n",
      "          LARGE TRUCK    0.043802\n",
      "          SMALL SUV      0.035601\n",
      "          LARGE SUV      0.027213\n",
      "          CROSSOVER      0.021249\n",
      "          SPECIALTY      0.018826\n",
      "          SPORTS         0.014539\n",
      "          SMALL TRUCK    0.013979\n",
      "Name: Size, dtype: float64\n"
     ]
    }
   ],
   "source": [
    "print(data['Size'].value_counts())\n",
    "print(\"\\n\\nNormalised count (percentage) of size with kick value prediction\")\n",
    "print(data.groupby(['IsBadBuy'])['Size'].value_counts(normalize=True))"
   ]
  },
  {
   "cell_type": "code",
   "execution_count": 72,
   "metadata": {},
   "outputs": [
    {
     "data": {
      "image/png": "[encoded data removed]",
      "text/plain": [
       "<Figure size 2160x1440 with 2 Axes>"
      ]
     },
     "metadata": {
      "needs_background": "light"
     },
     "output_type": "display_data"
    }
   ],
   "source": [
    "plt.figure(figsize=(30,20))\n",
    "plt.subplot(221)\n",
    "dg = sns.countplot(data=data, x='Size', )\n",
    "plt.subplot(222)\n",
    "dg = sns.barplot(data=data, y='Size', x='IsBadBuy', )"
   ]
  },
  {
   "cell_type": "markdown",
   "metadata": {},
   "source": [
    "### 1.2.8 Invalid value in 'TopThreeAmericanName'"
   ]
  },
  {
   "cell_type": "code",
   "execution_count": 73,
   "metadata": {},
   "outputs": [
    {
     "name": "stdout",
     "output_type": "stream",
     "text": [
      "['CHRYSLER' 'GM' 'OTHER' 'FORD' '?']\n",
      "GM          14075\n",
      "CHRYSLER    13627\n",
      "FORD         7039\n",
      "OTHER        6688\n",
      "?               3\n",
      "Name: TopThreeAmericanName, dtype: int64\n"
     ]
    }
   ],
   "source": [
    "print(data['TopThreeAmericanName'].unique())\n",
    "print(data['TopThreeAmericanName'].value_counts())"
   ]
  },
  {
   "cell_type": "code",
   "execution_count": 74,
   "metadata": {},
   "outputs": [
    {
     "name": "stdout",
     "output_type": "stream",
     "text": [
      "['CHRYSLER' 'GM' 'OTHER' 'FORD']\n"
     ]
    }
   ],
   "source": [
    "# replace '?' with 'GM'\n",
    "data['TopThreeAmericanName'] = data['TopThreeAmericanName'].replace('?', 'GM')\n",
    "print(data['TopThreeAmericanName'].unique())"
   ]
  },
  {
   "cell_type": "code",
   "execution_count": 75,
   "metadata": {},
   "outputs": [
    {
     "name": "stdout",
     "output_type": "stream",
     "text": [
      "GM          14078\n",
      "CHRYSLER    13627\n",
      "FORD         7039\n",
      "OTHER        6688\n",
      "Name: TopThreeAmericanName, dtype: int64\n",
      "\n",
      "\n",
      "Normalised count (percentage) of Nationality with kick value prediction\n",
      "IsBadBuy  TopThreeAmericanName\n",
      "0         GM                      0.346938\n",
      "          CHRYSLER                0.331356\n",
      "          FORD                    0.162115\n",
      "          OTHER                   0.159592\n",
      "1         CHRYSLER                0.312395\n",
      "          GM                      0.291705\n",
      "          FORD                    0.222181\n",
      "          OTHER                   0.173719\n",
      "Name: TopThreeAmericanName, dtype: float64\n"
     ]
    }
   ],
   "source": [
    "print(data['TopThreeAmericanName'].value_counts())\n",
    "print(\"\\n\\nNormalised count (percentage) of Nationality with kick value prediction\")\n",
    "print(data.groupby(['IsBadBuy'])['TopThreeAmericanName'].value_counts(normalize=True))"
   ]
  },
  {
   "cell_type": "code",
   "execution_count": 76,
   "metadata": {},
   "outputs": [
    {
     "data": {
      "image/png": "[encoded data removed]",
      "text/plain": [
       "<Figure size 720x720 with 2 Axes>"
      ]
     },
     "metadata": {
      "needs_background": "light"
     },
     "output_type": "display_data"
    }
   ],
   "source": [
    "plt.figure(figsize=(10,10))\n",
    "plt.subplot(221)\n",
    "dg = sns.countplot(data=data, x='TopThreeAmericanName',)\n",
    "plt.title(\"TopThreeAmericanName\")\n",
    "\n",
    "plt.subplot(222)\n",
    "dg = sns.barplot(data=data, y='TopThreeAmericanName', x='IsBadBuy', )\n",
    "plt.title(\"TopThreeAmericanName associated with kick \")\n",
    "plt.tight_layout()"
   ]
  },
  {
   "cell_type": "markdown",
   "metadata": {},
   "source": [
    "### 1.2.9 Invalid values in several columns for price"
   ]
  },
  {
   "cell_type": "code",
   "execution_count": 78,
   "metadata": {},
   "outputs": [
    {
     "name": "stdout",
     "output_type": "stream",
     "text": [
      "0\n"
     ]
    }
   ],
   "source": [
    "# replace '?' with '0'\n",
    "data['MMRAcquisitionAuctionAveragePrice'] = data['MMRAcquisitionAuctionAveragePrice'].replace('?', '0')\n",
    "# convert data type from string to numeric\n",
    "data['MMRAcquisitionAuctionAveragePrice'] = pd.to_numeric(data['MMRAcquisitionAuctionAveragePrice'])\n",
    "data['MMRAcquisitionAuctionAveragePrice'].unique()\n",
    "# fill the missing value with the mean of the column\n",
    "data['MMRAcquisitionAuctionAveragePrice'] = data['MMRAcquisitionAuctionAveragePrice'].fillna((data['MMRAcquisitionAuctionAveragePrice'].mean()))\n",
    "print(data['MMRAcquisitionAuctionAveragePrice'].isnull().values.sum())"
   ]
  },
  {
   "cell_type": "code",
   "execution_count": 79,
   "metadata": {},
   "outputs": [
    {
     "name": "stdout",
     "output_type": "stream",
     "text": [
      "0\n"
     ]
    }
   ],
   "source": [
    "# replace '?' with '0'\n",
    "data['MMRAcquisitionAuctionCleanPrice'] = data['MMRAcquisitionAuctionCleanPrice'].replace('?', '0')\n",
    "\n",
    "# convert data type from string to numeric\n",
    "data['MMRAcquisitionAuctionCleanPrice'] = pd.to_numeric(data['MMRAcquisitionAuctionCleanPrice'])\n",
    "data['MMRAcquisitionAuctionCleanPrice'].unique()\n",
    "\n",
    "# fill the missing value with the mean of the column\n",
    "data['MMRAcquisitionAuctionCleanPrice'] = data['MMRAcquisitionAuctionCleanPrice'].fillna((data['MMRAcquisitionAuctionCleanPrice'].mean()))\n",
    "print(data['MMRAcquisitionAuctionCleanPrice'].isnull().values.sum())"
   ]
  },
  {
   "cell_type": "code",
   "execution_count": 80,
   "metadata": {},
   "outputs": [
    {
     "name": "stdout",
     "output_type": "stream",
     "text": [
      "0\n"
     ]
    }
   ],
   "source": [
    "# replace '?' with '0'\n",
    "data['MMRAcquisitionRetailAveragePrice'] = data['MMRAcquisitionRetailAveragePrice'].replace('?', '0')\n",
    "\n",
    "# convert data type from string to numeric\n",
    "data['MMRAcquisitionRetailAveragePrice'] = pd.to_numeric(data['MMRAcquisitionRetailAveragePrice'])\n",
    "data['MMRAcquisitionRetailAveragePrice'].unique()\n",
    "\n",
    "# fill the missing value with the mean of the column\n",
    "data['MMRAcquisitionRetailAveragePrice'] = data['MMRAcquisitionRetailAveragePrice'].fillna((data['MMRAcquisitionRetailAveragePrice'].mean()))\n",
    "print(data['MMRAcquisitionRetailAveragePrice'].isnull().values.sum())"
   ]
  },
  {
   "cell_type": "code",
   "execution_count": 81,
   "metadata": {},
   "outputs": [
    {
     "name": "stdout",
     "output_type": "stream",
     "text": [
      "0\n"
     ]
    }
   ],
   "source": [
    "# replace '?' with '0'\n",
    "data['MMRAcquisitonRetailCleanPrice'] = data['MMRAcquisitonRetailCleanPrice'].replace('?', '0')\n",
    "\n",
    "# convert data type from string to numeric\n",
    "data['MMRAcquisitonRetailCleanPrice'] = pd.to_numeric(data['MMRAcquisitonRetailCleanPrice'])\n",
    "data['MMRAcquisitonRetailCleanPrice'].unique()\n",
    "\n",
    "# fill the missing value with the mean of the column\n",
    "data['MMRAcquisitonRetailCleanPrice'] = data['MMRAcquisitonRetailCleanPrice'].fillna((data['MMRAcquisitonRetailCleanPrice'].mean()))\n",
    "print(data['MMRAcquisitionAuctionCleanPrice'].isnull().values.sum())"
   ]
  },
  {
   "cell_type": "code",
   "execution_count": 83,
   "metadata": {},
   "outputs": [
    {
     "name": "stdout",
     "output_type": "stream",
     "text": [
      "0\n"
     ]
    }
   ],
   "source": [
    "# replace '?' with '0'\n",
    "data['MMRCurrentAuctionAveragePrice'] = data['MMRCurrentAuctionAveragePrice'].replace('?', '0')\n",
    "\n",
    "# convert data type from string to numeric\n",
    "data['MMRCurrentAuctionAveragePrice'] = pd.to_numeric(data['MMRCurrentAuctionAveragePrice'])\n",
    "data['MMRCurrentAuctionAveragePrice'].unique()\n",
    "\n",
    "# fill the missing value with the mean of the column\n",
    "data['MMRCurrentAuctionAveragePrice'] = data['MMRCurrentAuctionAveragePrice'].fillna((data['MMRCurrentAuctionAveragePrice'].mean()))\n",
    "print(data['MMRCurrentAuctionAveragePrice'].isnull().values.sum())"
   ]
  },
  {
   "cell_type": "code",
   "execution_count": 85,
   "metadata": {},
   "outputs": [
    {
     "name": "stdout",
     "output_type": "stream",
     "text": [
      "0\n"
     ]
    }
   ],
   "source": [
    "data['MMRCurrentAuctionCleanPrice'] = data['MMRCurrentAuctionCleanPrice'].replace('?', '0')\n",
    "\n",
    "# convert data type from string to numeric\n",
    "data['MMRCurrentAuctionCleanPrice'] = pd.to_numeric(data['MMRCurrentAuctionCleanPrice'])\n",
    "data['MMRCurrentAuctionCleanPrice'].unique()\n",
    "\n",
    "# fill the missing value with the mean of the column\n",
    "data['MMRCurrentAuctionCleanPrice'] = data['MMRCurrentAuctionCleanPrice'].fillna((data['MMRCurrentAuctionCleanPrice'].mean()))\n",
    "print(data['MMRCurrentAuctionCleanPrice'].isnull().values.sum())"
   ]
  },
  {
   "cell_type": "code",
   "execution_count": 86,
   "metadata": {},
   "outputs": [
    {
     "name": "stdout",
     "output_type": "stream",
     "text": [
      "0\n"
     ]
    }
   ],
   "source": [
    "# replace '?' with '0'\n",
    "data['MMRCurrentRetailAveragePrice'] = data['MMRCurrentRetailAveragePrice'].replace('?', '0')\n",
    "\n",
    "# convert data type from string to numeric\n",
    "data['MMRCurrentRetailAveragePrice'] = pd.to_numeric(data['MMRCurrentRetailAveragePrice'])\n",
    "data['MMRCurrentRetailAveragePrice'].unique()\n",
    "\n",
    "# fill the missing value with the mean of the column\n",
    "data['MMRCurrentRetailAveragePrice'] = data['MMRCurrentRetailAveragePrice'].fillna((data['MMRCurrentRetailAveragePrice'].mean()))\n",
    "print(data['MMRCurrentRetailAveragePrice'].isnull().values.sum())"
   ]
  },
  {
   "cell_type": "code",
   "execution_count": 88,
   "metadata": {},
   "outputs": [
    {
     "name": "stdout",
     "output_type": "stream",
     "text": [
      "0\n"
     ]
    }
   ],
   "source": [
    "# replace '?' with '0'\n",
    "data['MMRCurrentRetailCleanPrice'] = data['MMRCurrentRetailCleanPrice'].replace('?', '0')\n",
    "\n",
    "# convert data type from string to numeric\n",
    "data['MMRCurrentRetailCleanPrice'] = pd.to_numeric(data['MMRCurrentRetailCleanPrice'])\n",
    "data['MMRCurrentRetailCleanPrice'].unique()\n",
    "\n",
    "# fill the missing value with the mean of the column\n",
    "data['MMRCurrentRetailCleanPrice'] = data['MMRCurrentRetailCleanPrice'].fillna((data['MMRCurrentRetailCleanPrice'].mean()))\n",
    "print(data['MMRCurrentRetailCleanPrice'].isnull().values.sum())"
   ]
  },
  {
   "cell_type": "code",
   "execution_count": 89,
   "metadata": {},
   "outputs": [
    {
     "name": "stdout",
     "output_type": "stream",
     "text": [
      "0\n"
     ]
    }
   ],
   "source": [
    "# replace '?' with '0'\n",
    "data['MMRCurrentRetailRatio'] = data['MMRCurrentRetailRatio'].replace('#VALUE!', '0')\n",
    "\n",
    "# convert data type from string to numeric\n",
    "data['MMRCurrentRetailRatio'] = pd.to_numeric(data['MMRCurrentRetailRatio'])\n",
    "data['MMRCurrentRetailRatio'].unique()\n",
    "\n",
    "# fill the missing value with the mean of the column\n",
    "data['MMRCurrentRetailRatio'] = data['MMRCurrentRetailRatio'].fillna((data['MMRCurrentRetailRatio'].mean()))\n",
    "print (data['MMRCurrentRetailRatio'].isnull().values.sum())"
   ]
  },
  {
   "cell_type": "markdown",
   "metadata": {},
   "source": [
    "### 1.2.10 Invalid values in 'VehBCost'"
   ]
  },
  {
   "cell_type": "code",
   "execution_count": 90,
   "metadata": {},
   "outputs": [
    {
     "data": {
      "text/plain": [
       "array(['7800', '6000', '7500', ..., '10885', '11945', '3205'],\n",
       "      dtype=object)"
      ]
     },
     "execution_count": 90,
     "metadata": {},
     "output_type": "execute_result"
    }
   ],
   "source": [
    "data['VehBCost'].unique()"
   ]
  },
  {
   "cell_type": "code",
   "execution_count": 92,
   "metadata": {},
   "outputs": [
    {
     "data": {
      "text/plain": [
       "array([ 7800,  6000,  7500, ..., 10885, 11945,  3205])"
      ]
     },
     "execution_count": 92,
     "metadata": {},
     "output_type": "execute_result"
    }
   ],
   "source": [
    "# replace '?' with '0'\n",
    "data['VehBCost'] = data['VehBCost'].replace('?', '0')\n",
    "# convert data type from string to numeric\n",
    "data['VehBCost'] = pd.to_numeric(data['VehBCost'])\n",
    "data['VehBCost'].unique()"
   ]
  },
  {
   "cell_type": "code",
   "execution_count": 93,
   "metadata": {},
   "outputs": [
    {
     "data": {
      "text/plain": [
       "Text(0.5, 1.0, 'Purchase cost that is KICK')"
      ]
     },
     "execution_count": 93,
     "metadata": {},
     "output_type": "execute_result"
    },
    {
     "data": {
      "image/png": "[encoded data removed]",
      "text/plain": [
       "<Figure size 432x288 with 1 Axes>"
      ]
     },
     "metadata": {
      "needs_background": "light"
     },
     "output_type": "display_data"
    },
    {
     "data": {
      "image/png": "[encoded data removed]",
      "text/plain": [
       "<Figure size 864x720 with 2 Axes>"
      ]
     },
     "metadata": {
      "needs_background": "light"
     },
     "output_type": "display_data"
    }
   ],
   "source": [
    "dg = sns.boxplot( x ='IsBadBuy', y ='VehBCost', data=data).set_title('Vehicular Cost')\n",
    "\n",
    "# create discplots to sepate kick and non kick in terms of vehicular cost \n",
    "plt.figure(figsize=(12,10))\n",
    "plt.subplot(221)\n",
    "sns.distplot(data[data['IsBadBuy']==0].VehBCost)\n",
    "plt.title('Purchase cost that is Non-KICK')\n",
    "\n",
    "plt.subplot(222)\n",
    "sns.distplot(data[data['IsBadBuy']==1].VehBCost)\n",
    "plt.title('Purchase cost that is KICK')"
   ]
  },
  {
   "cell_type": "markdown",
   "metadata": {},
   "source": [
    "### 1.2.11 Invalid values in 'IsOnlineSale'"
   ]
  },
  {
   "cell_type": "code",
   "execution_count": 94,
   "metadata": {},
   "outputs": [
    {
     "name": "stdout",
     "output_type": "stream",
     "text": [
      "[0.0 -1.0 2.0 4.0 1.0 '0' '1' '?']\n",
      "0.0     31368\n",
      "0        8572\n",
      "1.0       753\n",
      "-1.0      601\n",
      "1         134\n",
      "?           2\n",
      "4.0         1\n",
      "2.0         1\n",
      "Name: IsOnlineSale, dtype: int64\n"
     ]
    }
   ],
   "source": [
    "print(data['IsOnlineSale'].unique())\n",
    "print(data['IsOnlineSale'].value_counts())"
   ]
  },
  {
   "cell_type": "code",
   "execution_count": 95,
   "metadata": {},
   "outputs": [
    {
     "name": "stdout",
     "output_type": "stream",
     "text": [
      "0    39944\n",
      "1     1488\n",
      "Name: IsOnlineSale, dtype: int64\n"
     ]
    }
   ],
   "source": [
    "# replace '?' with '0'\n",
    "data['IsOnlineSale'] = data['IsOnlineSale'].replace( '0.0', 0)\n",
    "data['IsOnlineSale'] = data['IsOnlineSale'].replace('?', 0)\n",
    "data['IsOnlineSale'] = data['IsOnlineSale'].replace(-1.0, 1)\n",
    "data['IsOnlineSale'] = data['IsOnlineSale'].replace( 2.0, 0)\n",
    "data['IsOnlineSale'] = data['IsOnlineSale'].replace( 4.0, 0)\n",
    "data['IsOnlineSale'] = data['IsOnlineSale'].replace( '0', 0)\n",
    "data['IsOnlineSale'] = data['IsOnlineSale'].replace( '1', 1)\n",
    "data['IsOnlineSale'] = data['IsOnlineSale'].replace( 0.0, '0')\n",
    "data['IsOnlineSale'] = data['IsOnlineSale'].replace( 1.0, '1')\n",
    "print(data['IsOnlineSale'].value_counts())"
   ]
  },
  {
   "cell_type": "code",
   "execution_count": 98,
   "metadata": {},
   "outputs": [
    {
     "name": "stdout",
     "output_type": "stream",
     "text": [
      "[0, 1]\n",
      "Categories (2, object): [0, 1]\n",
      "0    39944\n",
      "1     1488\n",
      "Name: IsOnlineSale, dtype: int64\n"
     ]
    }
   ],
   "source": [
    "# convert data type from string to Categorical\n",
    "data['IsOnlineSale'] = pd.Categorical(data['IsOnlineSale'])\n",
    "print(data['IsOnlineSale'].unique())\n",
    "print(data['IsOnlineSale'].value_counts())"
   ]
  },
  {
   "cell_type": "code",
   "execution_count": 100,
   "metadata": {},
   "outputs": [
    {
     "name": "stdout",
     "output_type": "stream",
     "text": [
      "\n",
      "\n",
      "Normalised count (percentage) of IsOnlineSale with kick value prediction\n",
      "IsBadBuy  IsOnlineSale\n",
      "0         0               0.963734\n",
      "          1               0.036266\n",
      "1         0               0.966449\n",
      "          1               0.033551\n",
      "Name: IsOnlineSale, dtype: float64\n"
     ]
    }
   ],
   "source": [
    "print(\"\\n\\nNormalised count (percentage) of IsOnlineSale with kick value prediction\")\n",
    "print(data.groupby(['IsBadBuy'])['IsOnlineSale'].value_counts(normalize=True))"
   ]
  },
  {
   "cell_type": "code",
   "execution_count": 101,
   "metadata": {},
   "outputs": [
    {
     "data": {
      "text/plain": [
       "Text(0.5, 1.0, 'IsOnlineSale associated with kick ')"
      ]
     },
     "execution_count": 101,
     "metadata": {},
     "output_type": "execute_result"
    },
    {
     "data": {
      "image/png": "[encoded data removed]",
      "text/plain": [
       "<Figure size 864x1152 with 2 Axes>"
      ]
     },
     "metadata": {
      "needs_background": "light"
     },
     "output_type": "display_data"
    }
   ],
   "source": [
    "plt.figure(figsize=(12,16))\n",
    "plt.subplot(221)\n",
    "dg = sns.countplot(data=data, x='IsOnlineSale')\n",
    "\n",
    "plt.subplot(222)\n",
    "dg = sns.barplot(data=data, y='IsOnlineSale', x='IsBadBuy', )\n",
    "plt.title(\"IsOnlineSale associated with kick \")"
   ]
  },
  {
   "cell_type": "markdown",
   "metadata": {},
   "source": [
    "### 1.2.12 Invalid values in 'ForSale'"
   ]
  },
  {
   "cell_type": "code",
   "execution_count": 102,
   "metadata": {},
   "outputs": [
    {
     "name": "stdout",
     "output_type": "stream",
     "text": [
      "['Yes' 'No' '?' 'yes' '0' 'YES']\n",
      "Yes    27358\n",
      "YES     8544\n",
      "yes     5524\n",
      "?          3\n",
      "No         2\n",
      "0          1\n",
      "Name: ForSale, dtype: int64\n"
     ]
    }
   ],
   "source": [
    "print(data['ForSale'].unique())\n",
    "print(data['ForSale'].value_counts())"
   ]
  },
  {
   "cell_type": "code",
   "execution_count": 103,
   "metadata": {},
   "outputs": [
    {
     "name": "stdout",
     "output_type": "stream",
     "text": [
      "['Yes' 'No']\n",
      "Yes    41429\n",
      "No         3\n",
      "Name: ForSale, dtype: int64\n"
     ]
    }
   ],
   "source": [
    "# replace noisy\n",
    "data['ForSale'] = data['ForSale'].replace('yes', 'Yes')\n",
    "data['ForSale'] = data['ForSale'].replace('YES', 'Yes')\n",
    "data['ForSale'] = data['ForSale'].replace('?', 'Yes')\n",
    "data['ForSale'] = data['ForSale'].replace('0', 'No')\n",
    "print(data['ForSale'].unique())\n",
    "print(data['ForSale'].value_counts())"
   ]
  },
  {
   "cell_type": "code",
   "execution_count": 104,
   "metadata": {},
   "outputs": [
    {
     "name": "stdout",
     "output_type": "stream",
     "text": [
      "\n",
      "\n",
      "Normalised count (percentage) of ForSale with kick value prediction\n",
      "IsBadBuy  ForSale\n",
      "0         Yes        0.999917\n",
      "          No         0.000083\n",
      "1         Yes        1.000000\n",
      "Name: ForSale, dtype: float64\n"
     ]
    }
   ],
   "source": [
    "print(\"\\n\\nNormalised count (percentage) of ForSale with kick value prediction\")\n",
    "print(data.groupby(['IsBadBuy'])['ForSale'].value_counts(normalize=True))"
   ]
  },
  {
   "cell_type": "code",
   "execution_count": 105,
   "metadata": {},
   "outputs": [
    {
     "data": {
      "text/plain": [
       "Text(0.5, 1.0, 'ForSale associated with kick ')"
      ]
     },
     "execution_count": 105,
     "metadata": {},
     "output_type": "execute_result"
    },
    {
     "data": {
      "image/png": "[encoded data removed]",
      "text/plain": [
       "<Figure size 864x1152 with 2 Axes>"
      ]
     },
     "metadata": {
      "needs_background": "light"
     },
     "output_type": "display_data"
    }
   ],
   "source": [
    "plt.figure(figsize=(12,16))\n",
    "plt.subplot(221)\n",
    "dg = sns.countplot(data=data, x='ForSale')\n",
    "\n",
    "plt.subplot(222)\n",
    "dg = sns.barplot(data=data, y='ForSale', x='IsBadBuy', )\n",
    "plt.title(\"ForSale associated with kick \")"
   ]
  },
  {
   "cell_type": "markdown",
   "metadata": {},
   "source": [
    "## 1.3 Select features for further mining"
   ]
  },
  {
   "cell_type": "code",
   "execution_count": 106,
   "metadata": {},
   "outputs": [],
   "source": [
    "# Setting up the dataFrame for Machine learning \n",
    "# exclude some columns(dropcol) unncessary for training\n",
    "dropcol = (['PurchaseID','PurchaseTimestamp', 'PurchaseDate' ,'WheelTypeID', 'PRIMEUNIT', \\\n",
    "            'AUCGUART', 'IsOnlineSale', 'ForSale'])\n",
    "data = data.drop(dropcol,  axis = 1)"
   ]
  },
  {
   "cell_type": "code",
   "execution_count": 107,
   "metadata": {},
   "outputs": [],
   "source": [
    "# correcting nominal variable for 'Transmission' to encode as binary\n",
    "trans_map = {'AUTO':0, 'MANUAL':1}\n",
    "data['Transmission'] = data['Transmission'].map(trans_map)"
   ]
  },
  {
   "cell_type": "code",
   "execution_count": 110,
   "metadata": {},
   "outputs": [],
   "source": [
    "df_col = data"
   ]
  },
  {
   "cell_type": "code",
   "execution_count": 112,
   "metadata": {},
   "outputs": [],
   "source": [
    "# Correcting categorical variable by using one hot encoding\n",
    "data = pd.concat([data,pd.get_dummies(data['Auction'], prefix='Auction', prefix_sep='_', columns= (''))], axis=1)\n",
    "data = pd.concat([data,pd.get_dummies(data['VehYear'], prefix='VehYear', prefix_sep='_', columns= (''))], axis=1)\n",
    "data = pd.concat([data,pd.get_dummies(data['Make'], prefix='Make', prefix_sep='_', columns= (''))], axis=1)\n",
    "data = pd.concat([data,pd.get_dummies(data['Color'], prefix='Color', prefix_sep='_', columns= (''))], axis=1)\n",
    "data = pd.concat([data,pd.get_dummies(data['WheelType'], prefix='WheelType', prefix_sep='_', columns= (''))], axis=1)\n",
    "data = pd.concat([data,pd.get_dummies(data['Nationality'], prefix='Nationality', prefix_sep='_', columns= (''))], axis=1)\n",
    "data = pd.concat([data,pd.get_dummies(data['Size'], prefix='Size', prefix_sep='_', columns= (''))], axis=1)\n",
    "data = pd.concat([data,pd.get_dummies(data['TopThreeAmericanName'], prefix='TopThreeAmericanName', prefix_sep='_', columns= (''))], axis=1)\n",
    "data = pd.concat([data,pd.get_dummies(data['VNST'], prefix='VNST', prefix_sep='_', columns= (''))], axis=1)"
   ]
  },
  {
   "cell_type": "code",
   "execution_count": 113,
   "metadata": {},
   "outputs": [],
   "source": [
    "# drop the original columns after one hot encoding\n",
    "data.drop(['Auction'],axis=1, inplace=True)\n",
    "data.drop(['VehYear'],axis=1, inplace=True)\n",
    "data.drop(['Make'],axis=1, inplace=True)\n",
    "data.drop(['Color'],axis=1, inplace=True)\n",
    "data.drop(['WheelType'],axis=1, inplace=True)\n",
    "data.drop(['Nationality'],axis=1, inplace=True)\n",
    "data.drop(['Size'],axis=1, inplace=True)\n",
    "data.drop(['TopThreeAmericanName'],axis=1, inplace=True)\n",
    "data.drop(['VNST'],axis=1, inplace=True)"
   ]
  },
  {
   "cell_type": "code",
   "execution_count": null,
   "metadata": {},
   "outputs": [],
   "source": [
    "# random segmenting\n",
    "df_0,df_1  = [x for _, x in df.groupby(df['IsBadBuy'] >0)]\n",
    "df_0=df_0.iloc[:5365, :]\n",
    "df=pd.concat([df_0, df_1])"
   ]
  },
  {
   "cell_type": "markdown",
   "metadata": {},
   "source": [
    "# End\n",
    "Finally, the data can be used for futher mining process.\n",
    "For convenience, we collect all processes in this ipynb into a function and put into a .py file."
   ]
  },
  {
   "cell_type": "code",
   "execution_count": 116,
   "metadata": {},
   "outputs": [],
   "source": [
    "# inside dm_tools.py\n",
    "import pandas as pd\n",
    "import matplotlib.pyplot as plt\n",
    "import seaborn as sns\n",
    "import numpy as np\n",
    "from sklearn.model_selection import train_test_split\n",
    "from sklearn.tree import DecisionTreeClassifier\n",
    "from sklearn.model_selection import GridSearchCV\n",
    "from sklearn.metrics import classification_report, accuracy_score\n",
    "#import pydot\n",
    "from io import StringIO\n",
    "from sklearn.tree import export_graphviz\n",
    "\n",
    "def data_prep():\n",
    "    df = pd.read_csv('CaseStudy1-data/CaseStudyData.csv')\n",
    "    \n",
    "    # find the missing data for all features\n",
    "    MissingData = df.isnull().sum()\n",
    "\n",
    "    # there are 16 columns that are uniformly has missing data\n",
    "    # drop the missing values of subset columns total 44 instances\n",
    "    \n",
    "    df=df.dropna(subset=['PRIMEUNIT', 'AUCGUART','VehYear','Make','Color','Transmission','WheelTypeID','WarrantyCost',\n",
    "               'VehOdo','Nationality','Size','TopThreeAmericanName','IsOnlineSale','VehBCost','VNST','Auction'])\n",
    "\n",
    "    ## VehYear ##\n",
    "    df['VehYear'] = pd.Categorical(df['VehYear'])\n",
    "        \n",
    "    ## COLOR ##\n",
    "    # Replace '?' and 'NOT AVAIL' into 'OTHER'\n",
    "    df['Color'] = df['Color'].replace('?', 'SILVER')\n",
    "    df['Color'] = df['Color'].replace('NOT AVAIL', 'SILVER')\n",
    "    \n",
    "    ## TRANSMISSION ##\n",
    "    #Replace ? => Auto\n",
    "    #Replace Manual => MANUAL\n",
    "    df['Transmission'] = df['Transmission'].replace('?', 'AUTO')\n",
    "    df['Transmission'] = df['Transmission'].replace('Manual', 'MANUAL')\n",
    "    ## correcting nominal variable for 'Transmission' to encode as binary\n",
    "    trans_map = {'AUTO':0, 'MANUAL':1}\n",
    "    df['Transmission'] = df['Transmission'].map(trans_map)\n",
    "    \n",
    "    \n",
    "    ## WHEELTYPEID ##\n",
    "    # replace by majority since data is categorical\n",
    "    df['WheelTypeID'] = df['WheelTypeID'].replace('?', '1')\n",
    "    df['WheelTypeID'] = pd.Categorical(df['WheelTypeID'])\n",
    "    \n",
    "    ## WHEEL TYPE ##\n",
    "    # replace nan and ? into Alloy\n",
    "    df['WheelType'] = df['WheelType'].replace(np.nan, 'Alloy')\n",
    "    df['WheelType'] = df['WheelType'].replace('?', 'Alloy')\n",
    "    \n",
    "    ## NATIONALITY ##\n",
    "    # replace '?' and 'USA' and 'OTHER' with 'AMERICAN'\n",
    "    df['Nationality'] = df['Nationality'].replace('?', 'AMERICAN')\n",
    "    df['Nationality'] = df['Nationality'].replace('USA', 'AMERICAN')    \n",
    "    \n",
    "    ## SIZE ##\n",
    "    # replace '?' into Medium\n",
    "    df['Size'] = df['Size'].replace('?', 'MEDIUM')\n",
    "    \n",
    "    ## TOPTHREEAMERICANNAME ##\n",
    "    # replace '?' with 'GM'\n",
    "    df['TopThreeAmericanName'] = df['TopThreeAmericanName'].replace('?', 'GM')\n",
    "    \n",
    "    ## MMRAcquisitionAuctionAveragePrice ##\n",
    "    # replace '?' with '0'\n",
    "    df['MMRAcquisitionAuctionAveragePrice'] = df['MMRAcquisitionAuctionAveragePrice'].replace('?', '0')\n",
    "    # convert data type from string to numeric\n",
    "    df['MMRAcquisitionAuctionAveragePrice'] = pd.to_numeric(df['MMRAcquisitionAuctionAveragePrice'])\n",
    "    # fill the missing value with the mean of the column\n",
    "    df['MMRAcquisitionAuctionAveragePrice'] = df['MMRAcquisitionAuctionAveragePrice'].fillna((df['MMRAcquisitionAuctionAveragePrice'].mean()))\n",
    "    \n",
    "    ## MMRAcquisitionAuctionCleanPrice ##\n",
    "    # replace '?' with '0'\n",
    "    df['MMRAcquisitionAuctionCleanPrice'] = df['MMRAcquisitionAuctionCleanPrice'].replace('?', '0')\n",
    "    # convert data type from string to numeric\n",
    "    df['MMRAcquisitionAuctionCleanPrice'] = pd.to_numeric(df['MMRAcquisitionAuctionCleanPrice'])\n",
    "    # fill the missing value with the mean of the column\n",
    "    df['MMRAcquisitionAuctionCleanPrice'] = df['MMRAcquisitionAuctionCleanPrice'].fillna((df['MMRAcquisitionAuctionCleanPrice'].mean()))\n",
    "    \n",
    "    ## MMRAcquisitionRetailAveragePrice ##\n",
    "    # replace '?' with '0'\n",
    "    df['MMRAcquisitionRetailAveragePrice'] = df['MMRAcquisitionRetailAveragePrice'].replace('?', '0')\n",
    "    # convert data type from string to numeric\n",
    "    df['MMRAcquisitionRetailAveragePrice'] = pd.to_numeric(df['MMRAcquisitionRetailAveragePrice'])\n",
    "    # fill the missing value with the mean of the column\n",
    "    df['MMRAcquisitionRetailAveragePrice'] = df['MMRAcquisitionRetailAveragePrice'].fillna((df['MMRAcquisitionRetailAveragePrice'].mean()))\n",
    "    \n",
    "    ## MMRAcquisitonRetailCleanPrice ##\n",
    "    # replace '?' with '0'\n",
    "    df['MMRAcquisitonRetailCleanPrice'] = df['MMRAcquisitonRetailCleanPrice'].replace('?', '0')\n",
    "    # convert data type from string to numeric\n",
    "    df['MMRAcquisitonRetailCleanPrice'] = pd.to_numeric(df['MMRAcquisitonRetailCleanPrice'])\n",
    "    # fill the missing value with the mean of the column\n",
    "    df['MMRAcquisitonRetailCleanPrice'] = df['MMRAcquisitonRetailCleanPrice'].fillna((df['MMRAcquisitonRetailCleanPrice'].mean()))\n",
    "    \n",
    "    ## MMRCurrentAuctionAveragePrice ##\n",
    "    # replace '?' with '0'\n",
    "    df['MMRCurrentAuctionAveragePrice'] = df['MMRCurrentAuctionAveragePrice'].replace('?', '0')\n",
    "    # convert data type from string to numeric\n",
    "    df['MMRCurrentAuctionAveragePrice'] = pd.to_numeric(df['MMRCurrentAuctionAveragePrice'])\n",
    "    # fill the missing value with the mean of the column\n",
    "    df['MMRCurrentAuctionAveragePrice'] = df['MMRCurrentAuctionAveragePrice'].fillna((df['MMRCurrentAuctionAveragePrice'].mean()))\n",
    "    \n",
    "    ## MMRCurrentAuctionCleanPrice ##\n",
    "    # replace '?' with '0'\n",
    "    df['MMRCurrentAuctionCleanPrice'] = df['MMRCurrentAuctionCleanPrice'].replace('?', '0')\n",
    "    # convert data type from string to numeric\n",
    "    df['MMRCurrentAuctionCleanPrice'] = pd.to_numeric(df['MMRCurrentAuctionCleanPrice'])\n",
    "    # fill the missing value with the mean of the column\n",
    "    df['MMRCurrentAuctionCleanPrice'] = df['MMRCurrentAuctionCleanPrice'].fillna((df['MMRCurrentAuctionCleanPrice'].mean()))\n",
    "    \n",
    "    ## MMRCurrentRetailAveragePrice ##\n",
    "    # replace '?' with '0'\n",
    "    df['MMRCurrentRetailAveragePrice'] = df['MMRCurrentRetailAveragePrice'].replace('?', '0')\n",
    "    # convert data type from string to numeric\n",
    "    df['MMRCurrentRetailAveragePrice'] = pd.to_numeric(df['MMRCurrentRetailAveragePrice'])\n",
    "    # fill the missing value with the mean of the column\n",
    "    df['MMRCurrentRetailAveragePrice'] = df['MMRCurrentRetailAveragePrice'].fillna((df['MMRCurrentRetailAveragePrice'].mean()))\n",
    "\n",
    "    ## MMRCurrentRetailCleanPrice ##\n",
    "    # replace '?' with '0'\n",
    "    df['MMRCurrentRetailCleanPrice'] = df['MMRCurrentRetailCleanPrice'].replace('?', '0')\n",
    "    # convert data type from string to numeric\n",
    "    df['MMRCurrentRetailCleanPrice'] = pd.to_numeric(df['MMRCurrentRetailCleanPrice'])\n",
    "    # fill the missing value with the mean of the column\n",
    "    df['MMRCurrentRetailCleanPrice'] = df['MMRCurrentRetailCleanPrice'].fillna((df['MMRCurrentRetailCleanPrice'].mean()))\n",
    "    \n",
    "    ## MMRCurrentRetailRatio ##\n",
    "    # replace '?' with '0'\n",
    "    df['MMRCurrentRetailRatio'] = df['MMRCurrentRetailRatio'].replace('#VALUE!', '0')\n",
    "    # convert data type from string to numeric\n",
    "    df['MMRCurrentRetailRatio'] = pd.to_numeric(df['MMRCurrentRetailRatio'])\n",
    "    # fill the missing value with the mean of the column\n",
    "    df['MMRCurrentRetailRatio'] = df['MMRCurrentRetailRatio'].fillna((df['MMRCurrentRetailRatio'].mean()))\n",
    "\n",
    "    ## VehBCost ##\n",
    "    # replace '?' with '0'\n",
    "    df['VehBCost'] = df['VehBCost'].replace('?', '0')\n",
    "    # convert data type from string to numeric\n",
    "    df['VehBCost'] = pd.to_numeric(df['VehBCost'])\n",
    "    \n",
    "    ## IsOnlineSale ##\n",
    "    # replace '?' with '0'\n",
    "    df['IsOnlineSale'] = df['IsOnlineSale'].replace( '0.0', 0)\n",
    "    df['IsOnlineSale'] = df['IsOnlineSale'].replace('?', 0)\n",
    "    df['IsOnlineSale'] = df['IsOnlineSale'].replace(-1.0, 1)\n",
    "    df['IsOnlineSale'] = df['IsOnlineSale'].replace( 2.0, 0)\n",
    "    df['IsOnlineSale'] = df['IsOnlineSale'].replace( 4.0, 0)\n",
    "    df['IsOnlineSale'] = df['IsOnlineSale'].replace( '0', 0)\n",
    "    df['IsOnlineSale'] = df['IsOnlineSale'].replace( '1', 1)\n",
    "    df['IsOnlineSale'] = df['IsOnlineSale'].replace( 0.0, '0')\n",
    "    df['IsOnlineSale'] = df['IsOnlineSale'].replace( 1.0, '1')\n",
    "\n",
    "    ## IsOnlineSale ##\n",
    "    # convert data type from string to numeric\n",
    "    df['IsOnlineSale'] = pd.Categorical(df['IsOnlineSale'])\n",
    "    \n",
    "    ## ForSale ##\n",
    "    # replace noisy\n",
    "    df['ForSale'] = df['ForSale'].replace('yes', 'Yes')\n",
    "    df['ForSale'] = df['ForSale'].replace('YES', 'Yes')\n",
    "    df['ForSale'] = df['ForSale'].replace('?', 'Yes')\n",
    "    df['ForSale'] = df['ForSale'].replace('0', 'No')\n",
    "    \n",
    "    # Setting up the dataFrame for Machine learning \n",
    "    # exclude some columns(dropcol) unncessary for training\n",
    "    dropcol = (['PurchaseID','PurchaseTimestamp', 'PurchaseDate' ,'WheelTypeID', 'PRIMEUNIT', \\\n",
    "            'AUCGUART', 'IsOnlineSale', 'ForSale'])\n",
    "    df= df.drop(dropcol,  axis = 1)\n",
    "    #df1.head()\n",
    "    \n",
    "    \n",
    "    # correcting nominal variable for 'Transmission' to encode as binary\n",
    "    trans_map = {'AUTO':0, 'MANUAL':1}\n",
    "    df['Transmission'] = df['Transmission'].map(trans_map)\n",
    "    \n",
    "    df_col = df\n",
    "       \n",
    "        \n",
    "    # Correcting categorical variable by using one hot encoding\n",
    "    df = pd.concat([df,pd.get_dummies(df['Auction'], prefix='Auction', prefix_sep='_', columns= (''))], axis=1)\n",
    "    df = pd.concat([df,pd.get_dummies(df['VehYear'], prefix='VehYear', prefix_sep='_', columns= (''))], axis=1)\n",
    "    df = pd.concat([df,pd.get_dummies(df['Make'], prefix='Make', prefix_sep='_', columns= (''))], axis=1)\n",
    "    df = pd.concat([df,pd.get_dummies(df['Color'], prefix='Color', prefix_sep='_', columns= (''))], axis=1)\n",
    "    df = pd.concat([df,pd.get_dummies(df['WheelType'], prefix='WheelType', prefix_sep='_', columns= (''))], axis=1)\n",
    "    df = pd.concat([df,pd.get_dummies(df['Nationality'], prefix='Nationality', prefix_sep='_', columns= (''))], axis=1)\n",
    "    df = pd.concat([df,pd.get_dummies(df['Size'], prefix='Size', prefix_sep='_', columns= (''))], axis=1)\n",
    "    df = pd.concat([df,pd.get_dummies(df['TopThreeAmericanName'], prefix='TopThreeAmericanName', prefix_sep='_', columns= (''))], axis=1)\n",
    "    df = pd.concat([df,pd.get_dummies(df['VNST'], prefix='VNST', prefix_sep='_', columns= (''))], axis=1)\n",
    "\n",
    "    # drop the original columns after one hot encoding\n",
    "    df.drop(['Auction'],axis=1, inplace=True)\n",
    "    df.drop(['VehYear'],axis=1, inplace=True)\n",
    "    df.drop(['Make'],axis=1, inplace=True)\n",
    "    df.drop(['Color'],axis=1, inplace=True)\n",
    "    df.drop(['WheelType'],axis=1, inplace=True)\n",
    "    df.drop(['Nationality'],axis=1, inplace=True)\n",
    "    df.drop(['Size'],axis=1, inplace=True)\n",
    "    df.drop(['TopThreeAmericanName'],axis=1, inplace=True)\n",
    "    df.drop(['VNST'],axis=1, inplace=True)\n",
    "    \n",
    "    \n",
    "    # random segmenting\n",
    "    \n",
    "    df_0,df_1  = [x for _, x in df.groupby(df['IsBadBuy'] >0)]\n",
    "    df_0=df_0.iloc[:5365, :]\n",
    "    df=pd.concat([df_0, df_1])\n",
    "    \n",
    "       \n",
    "    return df\n"
   ]
  },
  {
   "cell_type": "code",
   "execution_count": null,
   "metadata": {},
   "outputs": [],
   "source": []
  }
 ],
 "metadata": {
  "kernelspec": {
   "display_name": "Python 3",
   "language": "python",
   "name": "python3"
  },
  "language_info": {
   "codemirror_mode": {
    "name": "ipython",
    "version": 3
   },
   "file_extension": ".py",
   "mimetype": "text/x-python",
   "name": "python",
   "nbconvert_exporter": "python",
   "pygments_lexer": "ipython3",
   "version": "3.7.3"
  }
 },
 "nbformat": 4,
 "nbformat_minor": 2
}
